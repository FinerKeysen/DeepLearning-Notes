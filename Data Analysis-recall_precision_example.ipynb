{
 "cells": [
  {
   "cell_type": "markdown",
   "metadata": {},
   "source": [
    "### Recall and Precision Diagnostic Example"
   ]
  },
  {
   "cell_type": "code",
   "execution_count": 16,
   "metadata": {
    "collapsed": true
   },
   "outputs": [],
   "source": [
    "import numpy as np\n",
    "import pandas as pd\n",
    "\n",
    "import matplotlib.pyplot as plt\n",
    "%matplotlib inline\n",
    "\n",
    "import seaborn as sns\n",
    "\n",
    "from IPython.core.pylabtools import figsize\n",
    "figsize(10, 8)"
   ]
  },
  {
   "cell_type": "markdown",
   "metadata": {},
   "source": [
    "### Confusion Matrix Numbers\n",
    "\n",
    "二分问题，实例分成正类（positive）和负类（negative）\n",
    "\n",
    "- 正类被预测为正类=>真正类（true positive）TP=>正确肯定的数目;\n",
    "- 负类被预测为正类=>假正类（false positive）FP=>误报，给出的匹配是不正确的;\n",
    "- 负类被预测为负类=>真负类（true negative）TN=>正确拒绝的非匹配对数；\n",
    "- 正类被预测为负类=>假负类（false negative）FN=>漏报，没有正确找到的匹配的数目；\n"
   ]
  },
  {
   "cell_type": "code",
   "execution_count": 17,
   "metadata": {
    "collapsed": false
   },
   "outputs": [
    {
     "data": {
      "text/html": [
       "<div>\n",
       "<table border=\"1\" class=\"dataframe\">\n",
       "  <thead>\n",
       "    <tr style=\"text-align: right;\">\n",
       "      <th></th>\n",
       "      <th>fn</th>\n",
       "      <th>fp</th>\n",
       "      <th>threshold</th>\n",
       "      <th>tn</th>\n",
       "      <th>tp</th>\n",
       "    </tr>\n",
       "  </thead>\n",
       "  <tbody>\n",
       "    <tr>\n",
       "      <th>0</th>\n",
       "      <td>0</td>\n",
       "      <td>50</td>\n",
       "      <td>0.0</td>\n",
       "      <td>0</td>\n",
       "      <td>50</td>\n",
       "    </tr>\n",
       "    <tr>\n",
       "      <th>1</th>\n",
       "      <td>2</td>\n",
       "      <td>47</td>\n",
       "      <td>0.1</td>\n",
       "      <td>3</td>\n",
       "      <td>48</td>\n",
       "    </tr>\n",
       "    <tr>\n",
       "      <th>2</th>\n",
       "      <td>4</td>\n",
       "      <td>40</td>\n",
       "      <td>0.2</td>\n",
       "      <td>9</td>\n",
       "      <td>47</td>\n",
       "    </tr>\n",
       "    <tr>\n",
       "      <th>3</th>\n",
       "      <td>8</td>\n",
       "      <td>31</td>\n",
       "      <td>0.3</td>\n",
       "      <td>16</td>\n",
       "      <td>45</td>\n",
       "    </tr>\n",
       "    <tr>\n",
       "      <th>4</th>\n",
       "      <td>11</td>\n",
       "      <td>23</td>\n",
       "      <td>0.4</td>\n",
       "      <td>22</td>\n",
       "      <td>44</td>\n",
       "    </tr>\n",
       "    <tr>\n",
       "      <th>5</th>\n",
       "      <td>13</td>\n",
       "      <td>16</td>\n",
       "      <td>0.5</td>\n",
       "      <td>29</td>\n",
       "      <td>42</td>\n",
       "    </tr>\n",
       "    <tr>\n",
       "      <th>6</th>\n",
       "      <td>18</td>\n",
       "      <td>12</td>\n",
       "      <td>0.6</td>\n",
       "      <td>34</td>\n",
       "      <td>36</td>\n",
       "    </tr>\n",
       "    <tr>\n",
       "      <th>7</th>\n",
       "      <td>21</td>\n",
       "      <td>11</td>\n",
       "      <td>0.7</td>\n",
       "      <td>38</td>\n",
       "      <td>30</td>\n",
       "    </tr>\n",
       "    <tr>\n",
       "      <th>8</th>\n",
       "      <td>33</td>\n",
       "      <td>4</td>\n",
       "      <td>0.8</td>\n",
       "      <td>43</td>\n",
       "      <td>20</td>\n",
       "    </tr>\n",
       "    <tr>\n",
       "      <th>9</th>\n",
       "      <td>40</td>\n",
       "      <td>3</td>\n",
       "      <td>0.9</td>\n",
       "      <td>45</td>\n",
       "      <td>12</td>\n",
       "    </tr>\n",
       "    <tr>\n",
       "      <th>10</th>\n",
       "      <td>50</td>\n",
       "      <td>0</td>\n",
       "      <td>1.0</td>\n",
       "      <td>50</td>\n",
       "      <td>0</td>\n",
       "    </tr>\n",
       "  </tbody>\n",
       "</table>\n",
       "</div>"
      ],
      "text/plain": [
       "    fn  fp  threshold  tn  tp\n",
       "0    0  50        0.0   0  50\n",
       "1    2  47        0.1   3  48\n",
       "2    4  40        0.2   9  47\n",
       "3    8  31        0.3  16  45\n",
       "4   11  23        0.4  22  44\n",
       "5   13  16        0.5  29  42\n",
       "6   18  12        0.6  34  36\n",
       "7   21  11        0.7  38  30\n",
       "8   33   4        0.8  43  20\n",
       "9   40   3        0.9  45  12\n",
       "10  50   0        1.0  50   0"
      ]
     },
     "execution_count": 17,
     "metadata": {},
     "output_type": "execute_result"
    }
   ],
   "source": [
    "results = pd.DataFrame({'threshold': [0.0, 0.1, 0.2, 0.3, 0.4, 0.5, 0.6, 0.7, 0.8, 0.9, 1.0],\n",
    "                        'tp': [50, 48, 47, 45, 44, 42, 36,  30,  20, 12, 0],\n",
    "                        'fp': [50, 47, 40, 31, 23, 16, 12,  11,   4,  3,  0],\n",
    "                        'tn': [0,   3,  9, 16, 22, 29, 34,  38,  43, 45, 50],\n",
    "                        'fn': [0,   2,  4,  8, 11, 13, 18,  21,  33, 40, 50]\n",
    "                       })\n",
    "results"
   ]
  },
  {
   "cell_type": "markdown",
   "metadata": {},
   "source": [
    "### Calculate Precision, Recall, F1, TPR, FPR\n",
    "\n",
    "#### TPR:真正类率，刻画分类器所识别出的正实例占所有正实例的比例\n",
    "$$TPR = \\frac{TP}{TP+FN}$$\n",
    "\n",
    "#### FPR:负正类率，计算分类器错认为正类的负实例所占所有负实例的比例\n",
    "$$FPR = \\frac{FP}{FP+TN}$$\n",
    "\n",
    "#### TNR:真负类率，也称为 specificity\n",
    "$$TNR = TN/(FP+TN) = 1 - FPR$$\n",
    "\n",
    "#### precision:正确率，正确预测的正实例占所有预测为正实例的比例\n",
    "$$precision = \\frac{TP}{TP+FP}$$\n",
    "\n",
    "#### recall:召回率，正确预测的正实例占所有正实例的比例\n",
    "$$recall = \\frac{TP}{TP+FN}$$\n",
    "\n",
    "#### F1分数，对precision和recall的整体评价\n",
    "$$F1 = \\frac{2\\times precision\\times recall}{precision+recall}$$"
   ]
  },
  {
   "cell_type": "code",
   "execution_count": 18,
   "metadata": {
    "collapsed": true
   },
   "outputs": [],
   "source": [
    "def calculate_metrics(results):\n",
    "    roc = pd.DataFrame(index = results['threshold'], columns=['recall', 'precision', 'f1', 'tpr', 'fpr'])\n",
    "    \n",
    "    for i in results.iterrows():\n",
    "        fn, fp, t, tn, tp = i[1] # 按行取\n",
    "        assert tp+fp+tn+fn == 100\n",
    "        \n",
    "        recall = tp/(tp+fn)\n",
    "        \n",
    "        if tp == fp == 0:\n",
    "            precision = 0\n",
    "            true_positive_rate = 0\n",
    "        else:\n",
    "            precision = tp/(tp+fp)\n",
    "            true_positive_rate = tp/(tp+fn)\n",
    "            \n",
    "        if precision == recall == 0:\n",
    "            f1 = 0\n",
    "        else:\n",
    "            f1 = 2*(precision*recall)/(precision+recall)\n",
    "            \n",
    "        false_positive_rate = fp/(fp+tn)\n",
    "        \n",
    "        roc.ix[t, 'recall'] = recall\n",
    "        roc.ix[t, 'precision'] = precision\n",
    "        roc.ix[t, 'f1'] = f1\n",
    "        roc.ix[t, 'tpr'] = true_positive_rate\n",
    "        roc.ix[t, 'fpr'] = false_positive_rate\n",
    "        \n",
    "    return roc"
   ]
  },
  {
   "cell_type": "code",
   "execution_count": 19,
   "metadata": {
    "collapsed": false
   },
   "outputs": [
    {
     "data": {
      "text/html": [
       "<div>\n",
       "<table border=\"1\" class=\"dataframe\">\n",
       "  <thead>\n",
       "    <tr style=\"text-align: right;\">\n",
       "      <th></th>\n",
       "      <th>threshold</th>\n",
       "      <th>recall</th>\n",
       "      <th>precision</th>\n",
       "      <th>f1</th>\n",
       "      <th>tpr</th>\n",
       "      <th>fpr</th>\n",
       "    </tr>\n",
       "  </thead>\n",
       "  <tbody>\n",
       "    <tr>\n",
       "      <th>0</th>\n",
       "      <td>0.0</td>\n",
       "      <td>1</td>\n",
       "      <td>0.5</td>\n",
       "      <td>0.666667</td>\n",
       "      <td>1</td>\n",
       "      <td>1</td>\n",
       "    </tr>\n",
       "    <tr>\n",
       "      <th>1</th>\n",
       "      <td>0.1</td>\n",
       "      <td>0.96</td>\n",
       "      <td>0.505263</td>\n",
       "      <td>0.662069</td>\n",
       "      <td>0.96</td>\n",
       "      <td>0.94</td>\n",
       "    </tr>\n",
       "    <tr>\n",
       "      <th>2</th>\n",
       "      <td>0.2</td>\n",
       "      <td>0.921569</td>\n",
       "      <td>0.54023</td>\n",
       "      <td>0.681159</td>\n",
       "      <td>0.921569</td>\n",
       "      <td>0.816327</td>\n",
       "    </tr>\n",
       "    <tr>\n",
       "      <th>3</th>\n",
       "      <td>0.3</td>\n",
       "      <td>0.849057</td>\n",
       "      <td>0.592105</td>\n",
       "      <td>0.697674</td>\n",
       "      <td>0.849057</td>\n",
       "      <td>0.659574</td>\n",
       "    </tr>\n",
       "    <tr>\n",
       "      <th>4</th>\n",
       "      <td>0.4</td>\n",
       "      <td>0.8</td>\n",
       "      <td>0.656716</td>\n",
       "      <td>0.721311</td>\n",
       "      <td>0.8</td>\n",
       "      <td>0.511111</td>\n",
       "    </tr>\n",
       "    <tr>\n",
       "      <th>5</th>\n",
       "      <td>0.5</td>\n",
       "      <td>0.763636</td>\n",
       "      <td>0.724138</td>\n",
       "      <td>0.743363</td>\n",
       "      <td>0.763636</td>\n",
       "      <td>0.355556</td>\n",
       "    </tr>\n",
       "    <tr>\n",
       "      <th>6</th>\n",
       "      <td>0.6</td>\n",
       "      <td>0.666667</td>\n",
       "      <td>0.75</td>\n",
       "      <td>0.705882</td>\n",
       "      <td>0.666667</td>\n",
       "      <td>0.26087</td>\n",
       "    </tr>\n",
       "    <tr>\n",
       "      <th>7</th>\n",
       "      <td>0.7</td>\n",
       "      <td>0.588235</td>\n",
       "      <td>0.731707</td>\n",
       "      <td>0.652174</td>\n",
       "      <td>0.588235</td>\n",
       "      <td>0.22449</td>\n",
       "    </tr>\n",
       "    <tr>\n",
       "      <th>8</th>\n",
       "      <td>0.8</td>\n",
       "      <td>0.377358</td>\n",
       "      <td>0.833333</td>\n",
       "      <td>0.519481</td>\n",
       "      <td>0.377358</td>\n",
       "      <td>0.0851064</td>\n",
       "    </tr>\n",
       "    <tr>\n",
       "      <th>9</th>\n",
       "      <td>0.9</td>\n",
       "      <td>0.230769</td>\n",
       "      <td>0.8</td>\n",
       "      <td>0.358209</td>\n",
       "      <td>0.230769</td>\n",
       "      <td>0.0625</td>\n",
       "    </tr>\n",
       "    <tr>\n",
       "      <th>10</th>\n",
       "      <td>1.0</td>\n",
       "      <td>0</td>\n",
       "      <td>0</td>\n",
       "      <td>0</td>\n",
       "      <td>0</td>\n",
       "      <td>0</td>\n",
       "    </tr>\n",
       "  </tbody>\n",
       "</table>\n",
       "</div>"
      ],
      "text/plain": [
       "    threshold    recall precision        f1       tpr        fpr\n",
       "0         0.0         1       0.5  0.666667         1          1\n",
       "1         0.1      0.96  0.505263  0.662069      0.96       0.94\n",
       "2         0.2  0.921569   0.54023  0.681159  0.921569   0.816327\n",
       "3         0.3  0.849057  0.592105  0.697674  0.849057   0.659574\n",
       "4         0.4       0.8  0.656716  0.721311       0.8   0.511111\n",
       "5         0.5  0.763636  0.724138  0.743363  0.763636   0.355556\n",
       "6         0.6  0.666667      0.75  0.705882  0.666667    0.26087\n",
       "7         0.7  0.588235  0.731707  0.652174  0.588235    0.22449\n",
       "8         0.8  0.377358  0.833333  0.519481  0.377358  0.0851064\n",
       "9         0.9  0.230769       0.8  0.358209  0.230769     0.0625\n",
       "10        1.0         0         0         0         0          0"
      ]
     },
     "execution_count": 19,
     "metadata": {},
     "output_type": "execute_result"
    }
   ],
   "source": [
    "roc = calculate_metrics(results)\n",
    "roc.reset_index()"
   ]
  },
  {
   "cell_type": "markdown",
   "metadata": {},
   "source": [
    "### Receiver Operating Characteristic Curve"
   ]
  },
  {
   "cell_type": "code",
   "execution_count": 20,
   "metadata": {
    "collapsed": false
   },
   "outputs": [
    {
     "data": {
      "text/plain": [
       "<matplotlib.text.Text at 0x7fd626d42590>"
      ]
     },
     "execution_count": 20,
     "metadata": {},
     "output_type": "execute_result"
    },
    {
     "data": {
      "image/png": "[encoded data removed]",
      "text/plain": [
       "<matplotlib.figure.Figure at 0x7fd62a2e4590>"
      ]
     },
     "metadata": {},
     "output_type": "display_data"
    }
   ],
   "source": [
    "figsize(10, 8)\n",
    "plt.style.use('seaborn-dark-palette')\n",
    "thresholds = [str(t) for t in results['threshold']]\n",
    "plt.plot(roc['fpr'], roc['tpr'], 'bo-', label='model')\n",
    "plt.plot(list(np.linspace(0, 1, num=10)), list(np.linspace(0, 1, num=10)), 'ro-', label='naive classifier')\n",
    "for x,y,s in zip(roc['fpr'], roc['tpr'], thresholds):\n",
    "    plt.text(x-0.04, y+0.02, s, fontdict={'size':14})\n",
    "\n",
    "plt.legend(prop={'size':14})\n",
    "plt.ylabel('True Positive Rate', size=16)\n",
    "plt.xlabel('False Positive Rate', size=16)\n",
    "plt.title('Receiver Operating Characteristic Curve', size=20)"
   ]
  },
  {
   "cell_type": "code",
   "execution_count": null,
   "metadata": {
    "collapsed": true
   },
   "outputs": [],
   "source": []
  }
 ],
 "metadata": {
  "kernelspec": {
   "display_name": "Python 2",
   "language": "python",
   "name": "python2"
  },
  "language_info": {
   "codemirror_mode": {
    "name": "ipython",
    "version": 2
   },
   "file_extension": ".py",
   "mimetype": "text/x-python",
   "name": "python",
   "nbconvert_exporter": "python",
   "pygments_lexer": "ipython2",
   "version": "2.7.13"
  }
 },
 "nbformat": 4,
 "nbformat_minor": 2
}
