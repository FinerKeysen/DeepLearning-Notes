{
 "cells": [
  {
   "cell_type": "markdown",
   "metadata": {},
   "source": [
    "tensorflow模型保存到 `.ckpt` 文件中，目录中包含3个二进制文件\n",
    "- `xxx.ckpt.meta`文件：describe the structure of our computational graph that we excuted\n",
    "- `xxx.ckpt.index`文件：keeps track of the data structures\n",
    "- `xxx.ckpt.data-nnn-of-mmm`：saves the main variable values\n",
    "\n",
    "另外保存有一个文件\n",
    "- `checkpoint`：记录了一个目录下所有的模型文件列表\n",
    "\n",
    "**在多次保存操作中，tensorflow默认保存最新的5次结果，checkpoint中记录最后一次结果的路径及5次最新结果的路径；如果想要保存更多次数的结果，可以利用可选参数`max_to_keep=n`，n是保存的次数**\n",
    "\n",
    "以下示例得到的 `checkpoint` 文件描述为：  \n",
    "```\n",
    "model_checkpoint_path: \"model.ckpt-90\"\n",
    "all_model_checkpoint_paths: \"model.ckpt-50\"\n",
    "all_model_checkpoint_paths: \"model.ckpt-60\"\n",
    "all_model_checkpoint_paths: \"model.ckpt-70\"\n",
    "all_model_checkpoint_paths: \"model.ckpt-80\"\n",
    "all_model_checkpoint_paths: \"model.ckpt-90\"\n",
    "```"
   ]
  },
  {
   "cell_type": "code",
   "execution_count": null,
   "metadata": {},
   "outputs": [],
   "source": [
    "# -*- coding:utf-8 -*-\n",
    "import tensorflow as tf\n",
    "\n",
    "v1 = tf.Variable(tf.constant(1.0, shape=[1]), name='V1')\n",
    "v2 = tf.Variable(tf.constant(10.0, shape=[1]), name='V2')\n",
    "\n",
    "# 申明一个全局变量初始化操作 init_op\n",
    "init_op = tf.global_variables_initializer()\n",
    "\n",
    "# 申明tf.train.Saver类用于保存模型\n",
    "saver = tf.train.Saver()\n",
    "\n",
    "with tf.Session() as sess:\n",
    "    sess.run(init_op)\n",
    "    \n",
    "    for epoch in range(100):\n",
    "        # 模型将被保存到指定路径下,且文件头为model.ckpt\n",
    "        if not epoch%10:\n",
    "            saver.save(sess, save_path='model/model.ckpt', global_step=epoch)"
   ]
  },
  {
   "cell_type": "code",
   "execution_count": null,
   "metadata": {},
   "outputs": [],
   "source": []
  }
 ],
 "metadata": {
  "kernelspec": {
   "display_name": "Python 3",
   "language": "python",
   "name": "python3"
  },
  "language_info": {
   "codemirror_mode": {
    "name": "ipython",
    "version": 3
   },
   "file_extension": ".py",
   "mimetype": "text/x-python",
   "name": "python",
   "nbconvert_exporter": "python",
   "pygments_lexer": "ipython3",
   "version": "3.6.5"
  }
 },
 "nbformat": 4,
 "nbformat_minor": 2
}
