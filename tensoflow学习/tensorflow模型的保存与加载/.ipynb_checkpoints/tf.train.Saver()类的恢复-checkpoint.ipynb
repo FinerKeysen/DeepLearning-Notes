{
 "cells": [
  {
   "cell_type": "markdown",
   "metadata": {},
   "source": [
    "### 方式一：先定义图上的所有运算再加载，注意的是不用初始化"
   ]
  },
  {
   "cell_type": "code",
   "execution_count": null,
   "metadata": {
    "scrolled": true
   },
   "outputs": [],
   "source": [
    "# -*- coding:utf-8 -*-\n",
    "\n",
    "import tensorflow as tf\n",
    "\n",
    "v1 = tf.Variable(tf.constant(0.0, shape=[1]), name='V1')\n",
    "v2 = tf.Variable(tf.constant(0.0, shape=[1]), name='V2')\n",
    "\n",
    "result = v1+v2\n",
    "saver = tf.train.Saver()\n",
    "\n",
    "with tf.Session() as sess:\n",
    "    print(\"重载前：\")\n",
    "    print(v1.name)\n",
    "    print(v2.name) \n",
    "\n",
    "with tf.Session() as sess:\n",
    "    saver.restore(sess, save_path='model/model.ckpt-90')\n",
    "    V = sess.run(result)\n",
    "    print(V)\n",
    "    print(\"重载后：\")\n",
    "    print(v1.name, sess.run(v1))\n",
    "    print(v2.name, sess.run(v2))\n"
   ]
  },
  {
   "cell_type": "markdown",
   "metadata": {},
   "source": [
    "### 方式二:直接加载已经保存的图 "
   ]
  },
  {
   "cell_type": "code",
   "execution_count": null,
   "metadata": {},
   "outputs": [],
   "source": [
    "# -*- coding:utf-8 -*-\n",
    "\n",
    "import tensorflow as tf\n",
    "\n",
    "# 直接加载一、已有的图\n",
    "saver = tf.train.import_meta_graph('model/model.ckpt-90.meta')\n",
    "\n",
    "with tf.Session() as sess:\n",
    "    saver.restore(sess, 'model/model.ckpt-90')\n",
    "    # 通过张量名称获取张量\n",
    "    result = sess.run(tf.get_default_graph().get_tensor_by_name('add:0'))\n",
    "    print(result)"
   ]
  },
  {
   "cell_type": "markdown",
   "metadata": {},
   "source": [
    "### 方式三: 选取需要被加载的变量，也支持在保存或加载时给变量重命名"
   ]
  },
  {
   "cell_type": "code",
   "execution_count": null,
   "metadata": {},
   "outputs": [],
   "source": [
    "# -*- coding:utf-8 -*-\n",
    "\n",
    "import tensorflow as tf\n",
    "\n",
    "v1 = tf.Variable(tf.constant(1.0, shape=[1]), name='rename-V1')\n",
    "v2 = tf.Variable(tf.constant(2.0, shape=[1]), name='rename-v2')\n",
    "\n",
    "result = v1+v2\n",
    "\n",
    "# 指定原来名称为V1的变量现在加载到变量v1中(其名称为rename-V1)，同理v2\n",
    "saver = tf.train.Saver({\"V1\":v1, \"V2\":v2})\n",
    "\n",
    "with tf.Session() as sess:\n",
    "    saver.restore(sess, save_path='model/model.ckpt-90')\n",
    "    V = sess.run(result)\n",
    "    print(V)\n",
    "    print(v1.name, sess.run(v1))\n",
    "    print(v2.name, sess.run(v2))"
   ]
  },
  {
   "cell_type": "markdown",
   "metadata": {},
   "source": [
    "### 方式四\n",
    "Saver默认保存程序运行的全部信息,当只需要部分信息，不需要类似变变量初始化模型保存等辅助节点的信息时,可通过convert_variables_to_constants函数将图中的变量及其取值通过常量的方式保存"
   ]
  },
  {
   "cell_type": "markdown",
   "metadata": {},
   "source": [
    "#### 4.1.保存操作"
   ]
  },
  {
   "cell_type": "code",
   "execution_count": 1,
   "metadata": {},
   "outputs": [
    {
     "name": "stdout",
     "output_type": "stream",
     "text": [
      "INFO:tensorflow:Froze 2 variables.\n",
      "Converted 2 variables to const ops.\n"
     ]
    }
   ],
   "source": [
    "# -*- coding:utf-8 -*-\n",
    "\n",
    "import tensorflow as tf\n",
    "from tensorflow.python.framework import graph_util\n",
    "\n",
    "v1 = tf.Variable(tf.constant(1.0, shape=[1]), name='v1')\n",
    "v2 = tf.Variable(tf.constant(2.0, shape=[1]), name='v2')\n",
    "result = v1+v2\n",
    "\n",
    "init_op = tf.global_variables_initializer()\n",
    "\n",
    "with tf.Session() as sess:\n",
    "    sess.run(init_op)\n",
    "\n",
    "    graph_def = tf.get_default_graph().as_graph_def()\n",
    "\n",
    "    output_graph_def = graph_util.convert_variables_to_constants(sess, graph_def, ['add'])\n",
    "\n",
    "    with tf.gfile.GFile(\"model/combined_model.pb\", 'wb') as f:\n",
    "        f.write(output_graph_def.SerializeToString())"
   ]
  },
  {
   "cell_type": "markdown",
   "metadata": {},
   "source": [
    "#### 4.2.恢复操作\n",
    "直接计算定义的加法运算的结果，当只需要得到图中某个节点的取值时可采用该方法，迁移学习中用到 "
   ]
  },
  {
   "cell_type": "code",
   "execution_count": 2,
   "metadata": {},
   "outputs": [
    {
     "name": "stdout",
     "output_type": "stream",
     "text": [
      "[array([3.], dtype=float32)]\n"
     ]
    }
   ],
   "source": [
    "# -*- coding:utf-8 -*-\n",
    "\n",
    "import tensorflow as tf\n",
    "from tensorflow.python.platform import gfile\n",
    "\n",
    "with tf.Session() as sess:\n",
    "    model_filename = 'model/combined_model.pb'\n",
    "    # 读取保存的模型文件，并将文件解析成对应的GraphDef Protocol Buffer\n",
    "    with gfile.FastGFile(model_filename, 'rb') as f:\n",
    "        graph_def = tf.GraphDef()\n",
    "        graph_def.ParseFromString(f.read())\n",
    "    # 将graph_def中保存的图加载到当前的图中。\n",
    "    # return_elements给的是返回的张量名称，在保存时给出的是计算节点名称，为'add';\n",
    "    # 加载时给出的张量的名称，为'add:0'\n",
    "    result = tf.import_graph_def(graph_def, return_elements=['add:0'])\n",
    "    print(sess.run(result))"
   ]
  },
  {
   "cell_type": "code",
   "execution_count": null,
   "metadata": {},
   "outputs": [],
   "source": []
  }
 ],
 "metadata": {
  "kernelspec": {
   "display_name": "Python 3",
   "language": "python",
   "name": "python3"
  },
  "language_info": {
   "codemirror_mode": {
    "name": "ipython",
    "version": 3
   },
   "file_extension": ".py",
   "mimetype": "text/x-python",
   "name": "python",
   "nbconvert_exporter": "python",
   "pygments_lexer": "ipython3",
   "version": "3.6.5"
  }
 },
 "nbformat": 4,
 "nbformat_minor": 2
}
